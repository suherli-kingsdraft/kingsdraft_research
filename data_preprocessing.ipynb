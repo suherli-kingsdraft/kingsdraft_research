{
 "cells": [
  {
   "cell_type": "code",
   "execution_count": 100,
   "id": "b8f86aac-78ff-4415-8098-345948955c48",
   "metadata": {},
   "outputs": [
    {
     "name": "stdout",
     "output_type": "stream",
     "text": [
      "Writing preprocess.py\n"
     ]
    }
   ],
   "source": [
    "%%writefile preprocess.py\n",
    "\n",
    "import pandas as pd\n",
    "import numpy as np\n",
    "import datetime as dt\n",
    "\n",
    "def preprocess_stats(df): \n",
    "    df = df.drop(['pos', 'comment'],  axis = 1)\n",
    "    df = df[df['min'] != '0:00']\n",
    "    df = df.dropna()\n",
    "    \n",
    "    df['min'] = df['min'].str.split(':')\n",
    "    df['min'] = df['min'].apply(lambda x: dt.timedelta(minutes = int(x[0]), seconds = int(x[1])))\n",
    "    df['min'] = df['min'].dt.total_seconds()/60\n",
    "    \n",
    "    return df\n"
   ]
  },
  {
   "cell_type": "code",
   "execution_count": 97,
   "id": "dfec64f7-dac9-4295-8411-cee55c64ee7e",
   "metadata": {},
   "outputs": [],
   "source": []
  }
 ],
 "metadata": {
  "kernelspec": {
   "display_name": "Python 3 (ipykernel)",
   "language": "python",
   "name": "python3"
  },
  "language_info": {
   "codemirror_mode": {
    "name": "ipython",
    "version": 3
   },
   "file_extension": ".py",
   "mimetype": "text/x-python",
   "name": "python",
   "nbconvert_exporter": "python",
   "pygments_lexer": "ipython3",
   "version": "3.8.13"
  }
 },
 "nbformat": 4,
 "nbformat_minor": 5
}
